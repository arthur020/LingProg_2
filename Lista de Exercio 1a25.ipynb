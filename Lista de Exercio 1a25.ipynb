{
 "cells": [
  {
   "cell_type": "markdown",
   "metadata": {},
   "source": [
    "1. Faça um Programa que peça dois números e imprima o maior deles.\n"
   ]
  },
  {
   "cell_type": "code",
   "execution_count": 3,
   "metadata": {},
   "outputs": [
    {
     "name": "stdout",
     "output_type": "stream",
     "text": [
      "insira um numero 21\n",
      "insira outro numero 21\n",
      "21\n"
     ]
    }
   ],
   "source": [
    "num1 = float(input(\"insira um numero \"))\n",
    "num2 = float(input(\"insira outro numero \"))\n",
    "if(num1>num2):\n",
    "    print(num1)\n",
    "elif(num2>num1):\n",
    "    print(num2)\n",
    "else:\n",
    "    print(num1)"
   ]
  },
  {
   "cell_type": "markdown",
   "metadata": {},
   "source": [
    "2. Faça um Programa que verifique se uma letra digitada é vogal ou consoante.\n"
   ]
  },
  {
   "cell_type": "code",
   "execution_count": 8,
   "metadata": {},
   "outputs": [
    {
     "name": "stdout",
     "output_type": "stream",
     "text": [
      "insira uma letra : \n",
      "q\n",
      "consoante\n"
     ]
    }
   ],
   "source": [
    "letr = input(\"insira uma letra : \\n\").lower()\n",
    "if(letr == \"a\" or letr == \"e\" or letr == \"i\" or letr == \"o\" or letr == \"u\" ):\n",
    "    print(\"vogal\")\n",
    "else:\n",
    "    print(\"consoante\")"
   ]
  },
  {
   "cell_type": "markdown",
   "metadata": {},
   "source": [
    "3. Faça um programa para a leitura de duas notas parciais de um aluno. O programa deve calcular a média alcançada por aluno e apresentar:\n",
    "- A mensagem \"Aprovado\", se a média alcançada for maior ou igual a sete;\n",
    "- A mensagem \"Reprovado\", se a média for menor do que sete;\n",
    "- A mensagem \"Aprovado com Distinção\", se a média for igual a dez."
   ]
  },
  {
   "cell_type": "code",
   "execution_count": null,
   "metadata": {},
   "outputs": [],
   "source": [
    "nota1= int(input(\"insira a primeira nota \"))\n",
    "nota2= int(input(\"insira a segunda nota \"))\n",
    "media = (nota2+nota1)/2\n",
    "if(media == 10):\n",
    "    print(\"Aprovado com Distinção\")\n",
    "elif(media<7):\n",
    "    print(\"Reprovado\")\n",
    "elif(media >= 7):\n",
    "    print(\"Aprovado \")\n"
   ]
  },
  {
   "cell_type": "markdown",
   "metadata": {},
   "source": [
    "4. Faça um Programa que leia três números e mostre-os em ordem decrescente.\n",
    " "
   ]
  },
  {
   "cell_type": "code",
   "execution_count": 19,
   "metadata": {},
   "outputs": [
    {
     "name": "stdout",
     "output_type": "stream",
     "text": [
      "Insira um numero91\n",
      "Insira um numero2\n",
      "Insira um numero3\n",
      "[91, 3, 2]\n"
     ]
    }
   ],
   "source": [
    "numeros = []\n",
    "\n",
    "\n",
    "for n in range(0,3):\n",
    "    numeros.append(int(input(\"Insira um numero\")))\n",
    "    \n",
    "numeros.sort(reverse=True)\n",
    "print(numeros)\n",
    "    "
   ]
  },
  {
   "cell_type": "markdown",
   "metadata": {},
   "source": [
    "5. As Organizações Tabajara resolveram dar um aumento de salário aos seus colaboradores e lhe contrataram para desenvolver o programa que calculará os reajustes.\n",
    "Faça um programa que recebe o salário de um colaborador e o reajuste segundo o seguinte critério, baseado no salário atual:\n",
    "- salários até R$ 280,00 (incluindo) : aumento de 20%\n",
    "- salários entre R$ 280,00 e R$ 700,00 : aumento de 15%\n",
    "- salários entre R$ 700,00 e R$ 1500,00 : aumento de 10%\n",
    "- salários de R$ 1500,00 em diante : aumento de 5% \n",
    "- Após o aumento ser realizado, informe na tela:\n",
    "- o salário antes do reajuste;\n",
    "- o percentual de aumento aplicado;\n",
    "- o valor do aumento;\n",
    "- o novo salário, após o aumento."
   ]
  },
  {
   "cell_type": "code",
   "execution_count": 39,
   "metadata": {},
   "outputs": [
    {
     "name": "stdout",
     "output_type": "stream",
     "text": [
      "Insira aqui seu salario \n",
      "1555\n",
      "Seu salario antes do reajuste 1555.0\n",
      "o percentual de reajuste é 5%\n",
      "valor do aumento 77.75\n",
      "novo valor do salario 1632.75\n"
     ]
    }
   ],
   "source": [
    "salario  = float(input(\"Insira aqui seu salario \\n\"))\n",
    "print(f'Seu salario antes do reajuste {salario}')\n",
    "\n",
    "aumento  = 0\n",
    "if(salario<=280.00):\n",
    "    aumento = 20\n",
    "elif(salario>280.00 and salario<=700.00):\n",
    "    aumento = 15\n",
    "elif(salario>700.00 and salario<=1500.00):\n",
    "    aumento = 10\n",
    "elif(salario>1500):\n",
    "    aumento = 5;\n",
    "print(f\"o percentual de reajuste é {aumento}%\")\n",
    "salario_up= salario*(aumento/100)\n",
    "print(f\"valor do aumento {salario_up}\")\n",
    "salario += salario_up\n",
    "print(f\"novo valor do salario {salario}\")\n"
   ]
  },
  {
   "cell_type": "markdown",
   "metadata": {},
   "source": [
    "6. Faça um Programa que leia um número e exiba o dia correspondente da semana. (1-Domingo, 2- Segunda, etc.), se digitar outro valor deve aparecer valor inválido."
   ]
  },
  {
   "cell_type": "code",
   "execution_count": 42,
   "metadata": {
    "scrolled": true
   },
   "outputs": [
    {
     "name": "stdout",
     "output_type": "stream",
     "text": [
      "Insira um numero corespondente a  um dia da semana  \n",
      " 5\n",
      "Quinta\n"
     ]
    }
   ],
   "source": [
    "dia = int(input(\"Insira um numero corespondente a  um dia da semana  \\n \"))\n",
    "\n",
    "if(dia== 1):\n",
    "    print(\"Domingo\")\n",
    "elif(dia==2):\n",
    "    print(\"Segunda\")\n",
    "elif(dia==3):\n",
    "    print(\"Terça\")\n",
    "elif(dia==4):\n",
    "    print(\"Quarta\")\n",
    "elif(dia==5):\n",
    "    print(\"Quinta\")\n",
    "elif(dia==6):\n",
    "    print(\"Sexta\")\n",
    "elif(dia==7):\n",
    "    print(\"Sabado\")\n",
    "else:\n",
    "    print(\" valor invalido\")\n",
    "\n"
   ]
  },
  {
   "cell_type": "markdown",
   "metadata": {},
   "source": [
    "7. Faça um programa que lê as duas notas parciais obtidas por um aluno numa disciplina ao longo de um semestre, e calcule a sua média. A atribuição de conceitos obedece à tabela abaixo:\n",
    "  Média de Aproveitamento  Conceito\n",
    "  Entre 9.0 e 10.0        A\n",
    "  Entre 7.5 e 9.0         B\n",
    "  Entre 6.0 e 7.5         C\n",
    "  Entre 4.0 e 6.0         D\n",
    "  Entre 4.0 e zero        E\n",
    "O algoritmo deve mostrar na tela as notas, a média, o conceito correspondente e a mensagem “APROVADO” se o conceito for A, B ou C ou “REPROVADO” se o conceito for D ou E.\n"
   ]
  },
  {
   "cell_type": "code",
   "execution_count": null,
   "metadata": {},
   "outputs": [],
   "source": [
    "nota1= float(input(\"insira a primeira nota \"))\n",
    "nota2= float(input(\"insira a segunda nota \"))\n",
    "media = (nota2+nota1)/2\n",
    "if(media<=10 and media>9):\n",
    "    print(\"A\")\n",
    "elif(media<=9 and media>7.5):\n",
    "    print(\"B\")\n",
    "elif(media<= 7.5 and media >6):\n",
    "    print(\"C\")\n",
    "elif(media<= 6 and media >4):\n",
    "    print(\"D\")\n",
    "elif(media<= 4 and media >=0):\n",
    "    print(\"E\")\n",
    "\n"
   ]
  },
  {
   "cell_type": "markdown",
   "metadata": {},
   "source": [
    "8. Faça um Programa que peça os 3 lados de um triângulo. O programa deverá informar se os valores podem ser um triângulo. Indique, caso os lados formem um triângulo, se o mesmo é: equilátero, isósceles ou escaleno.\n",
    "Dicas:\n",
    "- Três lados formam um triângulo quando a soma de quaisquer dois lados for maior que o terceiro;\n",
    "- Triângulo Equilátero: três lados iguais;\n",
    "- Triângulo Isósceles: quaisquer dois lados iguais;\n",
    "- Triângulo Escaleno: três lados diferentes;"
   ]
  },
  {
   "cell_type": "code",
   "execution_count": null,
   "metadata": {},
   "outputs": [],
   "source": [
    "numero1 =float(input(\"Insira um valor para o lado do triangulo \\n\"))\n",
    "numero2 =float(input(\"Insira um outro valor para o outro  lado do triangulo \\n\"))\n",
    "numero3 =float(input(\"Insira um outro valor para o  outro lado do triangulo \\n\"))\n",
    "\n",
    "if(numero1 == numero2 == numero3):\n",
    "    print(\"Equilatero\")\n",
    "elif(numero1 !=  numero2 != numero3):\n",
    "    print(\"Escaleno\")\n",
    "else:\n",
    "    print(\"Isósceles\")\n"
   ]
  },
  {
   "cell_type": "markdown",
   "metadata": {},
   "source": [
    "9. Faça um programa que calcule as raízes de uma equação do segundo grau, na forma ax2 + bx + c. O programa deverá pedir os valores de a, b e c e fazer as consistências, informando ao usuário nas seguintes situações:\n",
    "- Se o usuário informar o valor de A igual a zero, a equação não é do segundo grau e o programa não deve fazer pedir os demais valores, sendo encerrado;\n",
    "                                                                                          \n",
    "  - Se o delta calculado for negativo, a equação não possui raizes reais. Informe ao usuário e encerre o programa;\n",
    "- Se o delta calculado for igual a zero a equação possui apenas uma raiz real; informe-a ao usuário;\n",
    "- Se o delta for positivo, a equação possui duas raiz reais; informe-as ao usuário;"
   ]
  },
  {
   "cell_type": "code",
   "execution_count": 7,
   "metadata": {},
   "outputs": [
    {
     "name": "stdout",
     "output_type": "stream",
     "text": [
      "insira o valor de a \n",
      "1\n",
      "insira o valor de b \n",
      "2\n",
      "insira o valor de c \n",
      "3\n",
      "x's da funcao 1.0 e -3.0\n"
     ]
    }
   ],
   "source": [
    "import math\n",
    "\n",
    "a = float(input(\"insira o valor de a \\n\"))\n",
    "if(a== 0):\n",
    "    print(\"valor igual a 0\")\n",
    "else:\n",
    "    b= float(input(\"insira o valor de b \\n\"))\n",
    "    c= float(input(\"insira o valor de c \\n\"))\n",
    "    delta = (b**2) +4*a*c\n",
    "    if(delta<0):\n",
    "        print(\"valor  de delta negativo\")\n",
    "    elif(delta == 0):\n",
    "        x =(-b+ math.sqrt(delta))/2*a\n",
    "        print(f\"x da funcao {x}\")\n",
    "    else:\n",
    "        x1 =(-b+ math.sqrt(delta))/2*a\n",
    "        x2 =(-b- math.sqrt(delta))/2*a\n",
    "        print(f\"x's da funcao {x1} e {x2}\")\n",
    "    \n",
    "        \n",
    "\n"
   ]
  },
  {
   "cell_type": "markdown",
   "metadata": {},
   "source": [
    "10. Faça um Programa para um caixa eletrônico. O programa deverá perguntar ao usuário a valor do saque e depois informar quantas notas de cada valor serão fornecidas. As notas disponíveis serão as de 1, 5, 10, 50 e 100 reais. O valor mínimo é de 10 reais e o máximo de 600 reais. O programa não deve se preocupar com a quantidade de notas existentes na máquina.\n",
    "- Exemplo 1: Para sacar a quantia de 256 reais, o programa fornece duas notas de 100, uma nota de 50, uma nota de 5 e uma nota de 1;\n",
    "- Exemplo 2: Para sacar a quantia de 399 reais, o programa fornece três notas de 100, uma nota de 50, quatro notas de 10, uma nota de 5 e quatro notas de 1."
   ]
  },
  {
   "cell_type": "code",
   "execution_count": 6,
   "metadata": {},
   "outputs": [
    {
     "name": "stdout",
     "output_type": "stream",
     "text": [
      "Digite o valor do saque: 256\n",
      "2 notas de R$ 100\n",
      "1 notas de R$ 50\n",
      "1 notas de R$ 5\n",
      "1 notas de R$ 1\n"
     ]
    }
   ],
   "source": [
    "saque = int(input(\"Digite o valor do saque: \"))\n",
    "\n",
    "if 10 <= saque <= 600:\n",
    "    notas_cem = saque \n",
    "    saque = saque % 100\n",
    "\n",
    "    notas_cinquenta = saque \n",
    "    saque = saque % 50\n",
    "\n",
    "    notas_dez = saque\n",
    "    saque = saque % 10\n",
    "\n",
    "    notas_cinco = saque \n",
    "    saque = saque % 5\n",
    "\n",
    "    notas_um = saque \n",
    "\n",
    "    if notas_cem > 0:\n",
    "        print(notas_cem, \"notas de R$ 100\")\n",
    "    if notas_cinquenta > 0:\n",
    "        print(notas_cinquenta, \"notas de R$ 50\")\n",
    "    if notas_dez > 0:\n",
    "        print(notas_dez, \"notas de R$ 10\")\n",
    "    if notas_cinco > 0:\n",
    "        print(notas_cinco, \"notas de R$ 5\")\n",
    "    if notas_um > 0:\n",
    "        print(notas_um, \"notas de R$ 1\")\n",
    "              \n",
    "else:\n",
    "    print(\"Nao é possivel fazer o saque\")\n"
   ]
  },
  {
   "cell_type": "markdown",
   "metadata": {},
   "source": [
    "11. Faça um programa que faça 5 perguntas para uma pessoa sobre um crime. As perguntas são:\n",
    "\"Telefonou para a vítima?\"\n",
    "\"Esteve no local do crime?\"\n",
    "\"Mora perto da vítima?\"\n",
    "\"Devia para a vítima?\"\n",
    "\"Já trabalhou com a vítima?\"\n",
    "O programa deve no final emitir uma classificação sobre a participação da pessoa no crime. Se a pessoa responder positivamente a 2 questões ela deve ser classificada como \"Suspeita\", entre 3 e 4 como \"Cúmplice\" e 5 como \"Assassino\". Caso contrário, ele será classificado como \"Inocente\".\n"
   ]
  },
  {
   "cell_type": "code",
   "execution_count": 15,
   "metadata": {},
   "outputs": [
    {
     "name": "stdout",
     "output_type": "stream",
     "text": [
      "Telefonou para a vítima?s\n",
      "Esteve no local do crime?s\n",
      "Mora perto da vítima?s\n",
      "Devia para a vítima?s\n",
      "Já trabalhou com a vítima?s\n",
      "A pessoa é a assassina\n"
     ]
    }
   ],
   "source": [
    "matriz = [] \n",
    "\n",
    "matriz.append(input(\"Telefonou para a vítima?\")) \n",
    "matriz.append(input(\"Esteve no local do crime?\" )) \n",
    "matriz.append(input(\"Mora perto da vítima?\" ))\n",
    "matriz.append(input(\"Devia para a vítima?\" )) \n",
    "matriz.append(input(\"Já trabalhou com a vítima?\")) \n",
    "\n",
    "cont = 0 \n",
    "for j in range(5): \n",
    "    if matriz[j]=='s' or matriz[j]=='S': \n",
    "        cont = cont + 1 \n",
    "\n",
    "if cont==2: \n",
    "    print(\"A pessoa é suspeita\") \n",
    "\n",
    "if cont == 5: \n",
    "    print(\"A pessoa é a assassina\") \n",
    "\n",
    "if cont == 3 or cont ==4: \n",
    "    print(\"A pessoa é cumplice\") \n",
    "\n",
    "if cont <= 1 : \n",
    "    print(\"A pessoa é inocente\") \n",
    "\n"
   ]
  },
  {
   "cell_type": "markdown",
   "metadata": {},
   "source": [
    "12. Uma fruteira está vendendo frutas com a seguinte tabela de preços:\n",
    "                 Até 5 Kg                                      Acima de 5 Kg\n",
    "Morango         R$ 2,50 por Kg                                R$ 2,20 por Kg\n",
    "Maçã            R$ 1,80 por Kg                                R$ 1,50 por Kg\n",
    "\n",
    "        Se o cliente comprar mais de 8 Kg em frutas ou o valor total da compra ultrapassar R$ 25,00, receberá ainda um desconto de 10% sobre este total. Escreva um algoritmo para ler a quantidade (em Kg) de morangos e a quantidade (em Kg) de maças adquiridas e escreva o valor a ser pago pelo cliente."
   ]
  },
  {
   "cell_type": "code",
   "execution_count": 17,
   "metadata": {},
   "outputs": [
    {
     "name": "stdout",
     "output_type": "stream",
     "text": [
      "Insira o valor de kg de morango5\n",
      "Insira o valor de kg de macas5\n",
      "\n",
      "Valor a ser pago é \n",
      " R$:18.0\n"
     ]
    }
   ],
   "source": [
    "\n",
    "morango =int(input(\"Insira o valor de kg de morango\"))\n",
    "maca  = int(input(\"Insira o valor de kg de macas\"))\n",
    "totalKG  = morango+ maca\n",
    "\n",
    "if (morango >5):\n",
    "    morango *=2.2\n",
    "else:\n",
    "    morango *=2.5\n",
    "\n",
    "\n",
    "if (maca >5):\n",
    "    maca *=1.8\n",
    "else:\n",
    "    maca *=1.5\n",
    "    \n",
    "total_money = morango +maca\n",
    "\n",
    "\n",
    "\n",
    "if(totalKG >8 or total_money>25.00):\n",
    "    print()\n",
    "    total_money = (total_money*90/100)\n",
    "\n",
    "print(\"Valor a ser pago é \\n R$: \"+str(total_money))\n",
    "\n",
    "\n",
    "\n",
    "\n"
   ]
  },
  {
   "cell_type": "markdown",
   "metadata": {},
   "source": [
    "13. Faça um programa que peça uma nota, entre zero e dez. Mostre uma mensagem caso o valor seja inválido e continue pedindo até que o usuário informe um valor válido."
   ]
  },
  {
   "cell_type": "code",
   "execution_count": 2,
   "metadata": {},
   "outputs": [],
   "source": [
    "cont=1999\n",
    "\n",
    "while(cont>=0 and cont<=10):\n",
    "    cont=int(input(\"Insira uma nota entre zero  e dez \"))\n",
    "    if(not (cont>=0 and cont<=10)):\n",
    "        print(\"valor invalido\")"
   ]
  },
  {
   "cell_type": "markdown",
   "metadata": {},
   "source": [
    "13. Faça um programa que leia e valide as seguintes informações: \n",
    "Nome: maior que 3 caracteres;\n",
    "Idade: entre 0 e 150;\n",
    "Salário: maior que zero;\n",
    "Sexo: 'f' ou 'm';\n",
    "Estado Civil: 's', 'c', 'v', 'd';"
   ]
  },
  {
   "cell_type": "code",
   "execution_count": null,
   "metadata": {},
   "outputs": [],
   "source": [
    "nome  = input(\"Insira seu nome\")\n",
    "while(len(nome)>=3):\n",
    "    nome  = input(\"Insira um nome valido\")\n",
    "idade=int(input(\"Insira sua idade\"))\n",
    "while(idade>=0 and idade<=150):\n",
    "    idade=int(input(\"Insira uma  idade valida \"))\n",
    "salario =int(input(\"Insira seu salario\"))\n",
    "while(salario>0)\n",
    "    salario =int(input(\"Insira um salario  valido\"))\n",
    "sexo = input(\"Insira seu respectivo sexo : 'm' ou 'f'\")\n",
    "while(not(sexo=='f')or not(sexo=='m')):\n",
    "    sexo = input(\"Insira seu respectivo sexo : 'm' ou 'f'\")\n",
    "est_civ = input(\"insira  seu estado civil :'s', 'c', 'v', 'd'\")\n",
    "while(not(sexo=='s') or not(sexo=='c')or not(sexo=='v')or not(sexo=='d')):\n",
    "    est_civ = input(\"insira  seu estado civil :'s', 'c', 'v', 'd'\")\n"
   ]
  },
  {
   "cell_type": "markdown",
   "metadata": {},
   "source": [
    "14. Faça um programa que leia 5 números e informe o maior número."
   ]
  },
  {
   "cell_type": "code",
   "execution_count": 4,
   "metadata": {},
   "outputs": [
    {
     "name": "stdout",
     "output_type": "stream",
     "text": [
      "Insira um numero10\n",
      "Insira um numero2\n",
      "Insira um numero3\n",
      "Insira um numero1000000\n",
      "Insira um numero2\n",
      "o maior numero é \n",
      "1000000\n"
     ]
    }
   ],
   "source": [
    "numeros = []\n",
    "\n",
    "\n",
    "for n in range(0,5):\n",
    "    numeros.append(int(input(\"Insira um numero\")))\n",
    "    \n",
    "numeros.sort(reverse=True)\n",
    "print('o maior numero é ')\n",
    "print(numeros[0])\n",
    "    "
   ]
  },
  {
   "cell_type": "markdown",
   "metadata": {},
   "source": [
    "15. Faça um programa que leia 5 números e informe a soma e a média dos números."
   ]
  },
  {
   "cell_type": "code",
   "execution_count": 6,
   "metadata": {},
   "outputs": [
    {
     "name": "stdout",
     "output_type": "stream",
     "text": [
      "Insira um numero1\n",
      "Insira um numero1\n",
      "Insira um numero1\n",
      "Insira um numero1\n",
      "Insira um numero1\n",
      "a media é\n",
      "1.0\n"
     ]
    }
   ],
   "source": [
    "numeros =0\n",
    "\n",
    "\n",
    "for n in range(0,5):\n",
    "    numeros +=int(input(\"Insira um numero\"))\n",
    "    \n",
    "numeros =numeros/5\n",
    "    \n",
    "print('a media é')\n",
    "print(numeros)\n",
    "    "
   ]
  },
  {
   "cell_type": "markdown",
   "metadata": {},
   "source": [
    "16. Faça um programa que imprima na tela apenas os números ímpares entre 1 e 50.\n"
   ]
  },
  {
   "cell_type": "code",
   "execution_count": 7,
   "metadata": {},
   "outputs": [
    {
     "name": "stdout",
     "output_type": "stream",
     "text": [
      "1\n",
      "3\n",
      "5\n",
      "7\n",
      "9\n",
      "11\n",
      "13\n",
      "15\n",
      "17\n",
      "19\n",
      "21\n",
      "23\n",
      "25\n",
      "27\n",
      "29\n",
      "31\n",
      "33\n",
      "35\n",
      "37\n",
      "39\n",
      "41\n",
      "43\n",
      "45\n",
      "47\n",
      "49\n"
     ]
    }
   ],
   "source": [
    "for i in range(1,50,2):\n",
    "    print(i)"
   ]
  },
  {
   "cell_type": "markdown",
   "metadata": {},
   "source": [
    "17. Desenvolva um gerador de tabuada, capaz de gerar a tabuada de qualquer número inteiro entre 1 a 10. O usuário deve informar de qual numero ele deseja ver a tabuada. A saída deve ser conforme o exemplo abaixo:\n",
    "Tabuada de 5:\n",
    "5X 1= 5\n",
    "5 X 2 = 10\n",
    "...\n",
    "5 X 10 = 50"
   ]
  },
  {
   "cell_type": "code",
   "execution_count": 8,
   "metadata": {},
   "outputs": [
    {
     "name": "stdout",
     "output_type": "stream",
     "text": [
      "Insira um numero 1\n",
      "1 x 1 =1\n",
      "1 x 2 =2\n",
      "1 x 3 =3\n",
      "1 x 4 =4\n",
      "1 x 5 =5\n",
      "1 x 6 =6\n",
      "1 x 7 =7\n",
      "1 x 8 =8\n",
      "1 x 9 =9\n",
      "1 x 10 =10\n"
     ]
    }
   ],
   "source": [
    "numero = int(input(\"Insira um numero \"))\n",
    "for i in range(1,11):\n",
    "    mutl = i* numero\n",
    "    print(f\"{numero} x {i} ={mutl}\")"
   ]
  },
  {
   "cell_type": "markdown",
   "metadata": {},
   "source": [
    "18. A série de Fibonacci é formada pela seqüência 1,1,2,3,5,8,13,21,34,55,... Faça um programa capaz de gerar a série até o n−ésimo termo."
   ]
  },
  {
   "cell_type": "code",
   "execution_count": 9,
   "metadata": {},
   "outputs": [
    {
     "name": "stdout",
     "output_type": "stream",
     "text": [
      "Entre com um número: 18\n",
      "Fibonacci(18): 2584\n"
     ]
    }
   ],
   "source": [
    "fibo = [1,1]\n",
    "i = 0\n",
    "num = int(input(\"Entre com um número: \"))\n",
    "\n",
    "while num > len(fibo):\n",
    "\tfibo.append(fibo[i] + fibo[i+1])\n",
    "\ti+=1\n",
    "\n",
    "print ('Fibonacci(%d): %d' %(num,fibo[num-1]))"
   ]
  },
  {
   "cell_type": "markdown",
   "metadata": {},
   "source": [
    "19. Faça um programa que calcule o fatorial de um número inteiro fornecido pelo usuário. Ex.: 5!=5.4.3.2.1=120"
   ]
  },
  {
   "cell_type": "code",
   "execution_count": 12,
   "metadata": {},
   "outputs": [
    {
     "name": "stdout",
     "output_type": "stream",
     "text": [
      "Insira um numero5\n"
     ]
    },
    {
     "data": {
      "text/plain": [
       "120"
      ]
     },
     "execution_count": 12,
     "metadata": {},
     "output_type": "execute_result"
    }
   ],
   "source": [
    "import math\n",
    "numero  = int(input(\"Insira um numero\"))\n",
    "math.factorial(numero)"
   ]
  },
  {
   "cell_type": "markdown",
   "metadata": {},
   "source": [
    "20. O Sr. Manoel Joaquim possui uma grande loja de artigos de R$ 1,99, com cerca de 10 caixas. Para agilizar o cálculo de quanto cada cliente deve pagar ele desenvolveu um tabela que contém o número de itens que o cliente comprou e ao lado o valor da conta. Desta forma a atendente do caixa precisa apenas contar quantos itens o cliente está levando e olhar na tabela de preços. Você foi contratado para desenvolver o programa que monta esta tabela de preços, que conterá os preços de 1 até 50 produtos, conforme o exemplo abaixo:\n",
    "Lojas Quase Dois - Tabela de preços\n",
    "1 - R$ 1.99\n",
    "2 - R$ 3.98\n",
    "...\n",
    "50 - R$ 99.50\n"
   ]
  },
  {
   "cell_type": "code",
   "execution_count": 13,
   "metadata": {},
   "outputs": [
    {
     "name": "stdout",
     "output_type": "stream",
     "text": [
      "1 -R$ 1.99\n",
      "2 -R$ 3.98\n",
      "3 -R$ 5.97\n",
      "4 -R$ 7.96\n",
      "5 -R$ 9.95\n",
      "6 -R$ 11.94\n",
      "7 -R$ 13.93\n",
      "8 -R$ 15.92\n",
      "9 -R$ 17.91\n",
      "10 -R$ 19.9\n",
      "11 -R$ 21.89\n",
      "12 -R$ 23.88\n",
      "13 -R$ 25.87\n",
      "14 -R$ 27.86\n",
      "15 -R$ 29.85\n",
      "16 -R$ 31.84\n",
      "17 -R$ 33.83\n",
      "18 -R$ 35.82\n",
      "19 -R$ 37.81\n",
      "20 -R$ 39.8\n",
      "21 -R$ 41.79\n",
      "22 -R$ 43.78\n",
      "23 -R$ 45.77\n",
      "24 -R$ 47.76\n",
      "25 -R$ 49.75\n",
      "26 -R$ 51.74\n",
      "27 -R$ 53.73\n",
      "28 -R$ 55.72\n",
      "29 -R$ 57.71\n",
      "30 -R$ 59.7\n",
      "31 -R$ 61.69\n",
      "32 -R$ 63.68\n",
      "33 -R$ 65.67\n",
      "34 -R$ 67.66\n",
      "35 -R$ 69.65\n",
      "36 -R$ 71.64\n",
      "37 -R$ 73.63\n",
      "38 -R$ 75.62\n",
      "39 -R$ 77.61\n",
      "40 -R$ 79.6\n",
      "41 -R$ 81.59\n",
      "42 -R$ 83.58\n",
      "43 -R$ 85.57\n",
      "44 -R$ 87.56\n",
      "45 -R$ 89.55\n",
      "46 -R$ 91.54\n",
      "47 -R$ 93.53\n",
      "48 -R$ 95.52\n",
      "49 -R$ 97.51\n",
      "50 -R$ 99.5\n"
     ]
    }
   ],
   "source": [
    "for i in range(1,51):\n",
    "    cal =i*1.99\n",
    "    print(f'{i} -R$ {cal}')"
   ]
  },
  {
   "cell_type": "markdown",
   "metadata": {},
   "source": [
    "21. O Sr. Manoel Joaquim acaba de adquirir uma panificadora e pretende implantar a metodologia da tabelinha, que já é um sucesso na sua loja de 1,99. Você foi contratado para desenvolver o programa que monta a tabela de preços de pães, de 1 até 50 pães, a partir do preço do pão informado pelo usuário, conforme o exemplo abaixo:\n",
    "Preço do pão: R$ 0.18\n",
    "Panificadora Pão de Ontem - Tabela de preços\n",
    "1 - R$ 0.18\n",
    "2 - R$ 0.36\n",
    "                                                                                                \n",
    "  ...\n",
    "50 - R$ 9.00"
   ]
  },
  {
   "cell_type": "code",
   "execution_count": 18,
   "metadata": {},
   "outputs": [
    {
     "name": "stdout",
     "output_type": "stream",
     "text": [
      "1 -R$ 0.18 \n",
      "2 -R$ 0.36 \n",
      "3 -R$ 0.54 \n",
      "4 -R$ 0.72 \n",
      "5 -R$ 0.90 \n",
      "6 -R$ 1.08 \n",
      "7 -R$ 1.26 \n",
      "8 -R$ 1.44 \n",
      "9 -R$ 1.62 \n",
      "10 -R$ 1.80 \n",
      "11 -R$ 1.98 \n",
      "12 -R$ 2.16 \n",
      "13 -R$ 2.34 \n",
      "14 -R$ 2.52 \n",
      "15 -R$ 2.70 \n",
      "16 -R$ 2.88 \n",
      "17 -R$ 3.06 \n",
      "18 -R$ 3.24 \n",
      "19 -R$ 3.42 \n",
      "20 -R$ 3.60 \n",
      "21 -R$ 3.78 \n",
      "22 -R$ 3.96 \n",
      "23 -R$ 4.14 \n",
      "24 -R$ 4.32 \n",
      "25 -R$ 4.50 \n",
      "26 -R$ 4.68 \n",
      "27 -R$ 4.86 \n",
      "28 -R$ 5.04 \n",
      "29 -R$ 5.22 \n",
      "30 -R$ 5.40 \n",
      "31 -R$ 5.58 \n",
      "32 -R$ 5.76 \n",
      "33 -R$ 5.94 \n",
      "34 -R$ 6.12 \n",
      "35 -R$ 6.30 \n",
      "36 -R$ 6.48 \n",
      "37 -R$ 6.66 \n",
      "38 -R$ 6.84 \n",
      "39 -R$ 7.02 \n",
      "40 -R$ 7.20 \n",
      "41 -R$ 7.38 \n",
      "42 -R$ 7.56 \n",
      "43 -R$ 7.74 \n",
      "44 -R$ 7.92 \n",
      "45 -R$ 8.10 \n",
      "46 -R$ 8.28 \n",
      "47 -R$ 8.46 \n",
      "48 -R$ 8.64 \n",
      "49 -R$ 8.82 \n",
      "50 -R$ 9.00 \n"
     ]
    }
   ],
   "source": [
    "for i in range(1,51):\n",
    "    cal =i*0.18\n",
    "    print('%d -R$ %.2f '%(i,cal))"
   ]
  },
  {
   "cell_type": "markdown",
   "metadata": {},
   "source": [
    "22. O Sr. Manoel Joaquim expandiu seus negócios para além dos negócios de 1,99 e agora possui uma loja de conveniências. Faça um programa que implemente uma caixa registradora rudimentar. O programa deverá receber um número desconhecido de valores referentes aos preços das mercadorias. Um valor zero deve ser informado pelo operador para indicar o final da compra. O programa deve então mostrar o total da compra e perguntar o valor em dinheiro que o cliente forneceu, para então calcular e mostrar o valor do troco. Após esta operação, o programa deverá voltar ao ponto inicial, para registrar a próxima compra. A saída deve ser conforme o exemplo abaixo:\n",
    "Lojas Tabajara\n",
    "Produto 1: R$ 2.20\n",
    "Produto 2: R$ 5.80\n",
    "Produto 3: R$ 0\n",
    "Total: R$ 9.00\n",
    "Dinheiro: R$ 20.00\n",
    "Troco: R$ 11.00\n",
    "...\n"
   ]
  },
  {
   "cell_type": "code",
   "execution_count": 21,
   "metadata": {},
   "outputs": [
    {
     "name": "stdout",
     "output_type": "stream",
     "text": [
      "Insira o numero de produtos2\n",
      "Produto 1 : R$ 2\n",
      "Produto 2 : R$ 2\n",
      "Total: R$ 4.0\n",
      "Dinherio : R$ 4\n",
      "Troco : R$ 0.0\n",
      "Insira o numero de produtos3\n",
      "Produto 1 : R$ 199\n",
      "Produto 2 : R$ 23\n",
      "Produto 3 : R$ 32\n",
      "Total: R$ 254.0\n",
      "Dinherio : R$ 260\n",
      "Troco : R$ 6.0\n"
     ]
    },
    {
     "ename": "KeyboardInterrupt",
     "evalue": "",
     "output_type": "error",
     "traceback": [
      "\u001b[0;31m---------------------------------------------------------------------------\u001b[0m",
      "\u001b[0;31mKeyboardInterrupt\u001b[0m                         Traceback (most recent call last)",
      "\u001b[0;32m/Library/Frameworks/Python.framework/Versions/3.6/lib/python3.6/site-packages/ipykernel/kernelbase.py\u001b[0m in \u001b[0;36m_input_request\u001b[0;34m(self, prompt, ident, parent, password)\u001b[0m\n\u001b[1;32m    728\u001b[0m             \u001b[0;32mtry\u001b[0m\u001b[0;34m:\u001b[0m\u001b[0;34m\u001b[0m\u001b[0m\n\u001b[0;32m--> 729\u001b[0;31m                 \u001b[0mident\u001b[0m\u001b[0;34m,\u001b[0m \u001b[0mreply\u001b[0m \u001b[0;34m=\u001b[0m \u001b[0mself\u001b[0m\u001b[0;34m.\u001b[0m\u001b[0msession\u001b[0m\u001b[0;34m.\u001b[0m\u001b[0mrecv\u001b[0m\u001b[0;34m(\u001b[0m\u001b[0mself\u001b[0m\u001b[0;34m.\u001b[0m\u001b[0mstdin_socket\u001b[0m\u001b[0;34m,\u001b[0m \u001b[0;36m0\u001b[0m\u001b[0;34m)\u001b[0m\u001b[0;34m\u001b[0m\u001b[0m\n\u001b[0m\u001b[1;32m    730\u001b[0m             \u001b[0;32mexcept\u001b[0m \u001b[0mException\u001b[0m\u001b[0;34m:\u001b[0m\u001b[0;34m\u001b[0m\u001b[0m\n",
      "\u001b[0;32m/Library/Frameworks/Python.framework/Versions/3.6/lib/python3.6/site-packages/jupyter_client/session.py\u001b[0m in \u001b[0;36mrecv\u001b[0;34m(self, socket, mode, content, copy)\u001b[0m\n\u001b[1;32m    802\u001b[0m         \u001b[0;32mtry\u001b[0m\u001b[0;34m:\u001b[0m\u001b[0;34m\u001b[0m\u001b[0m\n\u001b[0;32m--> 803\u001b[0;31m             \u001b[0mmsg_list\u001b[0m \u001b[0;34m=\u001b[0m \u001b[0msocket\u001b[0m\u001b[0;34m.\u001b[0m\u001b[0mrecv_multipart\u001b[0m\u001b[0;34m(\u001b[0m\u001b[0mmode\u001b[0m\u001b[0;34m,\u001b[0m \u001b[0mcopy\u001b[0m\u001b[0;34m=\u001b[0m\u001b[0mcopy\u001b[0m\u001b[0;34m)\u001b[0m\u001b[0;34m\u001b[0m\u001b[0m\n\u001b[0m\u001b[1;32m    804\u001b[0m         \u001b[0;32mexcept\u001b[0m \u001b[0mzmq\u001b[0m\u001b[0;34m.\u001b[0m\u001b[0mZMQError\u001b[0m \u001b[0;32mas\u001b[0m \u001b[0me\u001b[0m\u001b[0;34m:\u001b[0m\u001b[0;34m\u001b[0m\u001b[0m\n",
      "\u001b[0;32m/Library/Frameworks/Python.framework/Versions/3.6/lib/python3.6/site-packages/zmq/sugar/socket.py\u001b[0m in \u001b[0;36mrecv_multipart\u001b[0;34m(self, flags, copy, track)\u001b[0m\n\u001b[1;32m    465\u001b[0m         \"\"\"\n\u001b[0;32m--> 466\u001b[0;31m         \u001b[0mparts\u001b[0m \u001b[0;34m=\u001b[0m \u001b[0;34m[\u001b[0m\u001b[0mself\u001b[0m\u001b[0;34m.\u001b[0m\u001b[0mrecv\u001b[0m\u001b[0;34m(\u001b[0m\u001b[0mflags\u001b[0m\u001b[0;34m,\u001b[0m \u001b[0mcopy\u001b[0m\u001b[0;34m=\u001b[0m\u001b[0mcopy\u001b[0m\u001b[0;34m,\u001b[0m \u001b[0mtrack\u001b[0m\u001b[0;34m=\u001b[0m\u001b[0mtrack\u001b[0m\u001b[0;34m)\u001b[0m\u001b[0;34m]\u001b[0m\u001b[0;34m\u001b[0m\u001b[0m\n\u001b[0m\u001b[1;32m    467\u001b[0m         \u001b[0;31m# have first part already, only loop while more to receive\u001b[0m\u001b[0;34m\u001b[0m\u001b[0;34m\u001b[0m\u001b[0m\n",
      "\u001b[0;32mzmq/backend/cython/socket.pyx\u001b[0m in \u001b[0;36mzmq.backend.cython.socket.Socket.recv\u001b[0;34m()\u001b[0m\n",
      "\u001b[0;32mzmq/backend/cython/socket.pyx\u001b[0m in \u001b[0;36mzmq.backend.cython.socket.Socket.recv\u001b[0;34m()\u001b[0m\n",
      "\u001b[0;32mzmq/backend/cython/socket.pyx\u001b[0m in \u001b[0;36mzmq.backend.cython.socket._recv_copy\u001b[0;34m()\u001b[0m\n",
      "\u001b[0;32m/Library/Frameworks/Python.framework/Versions/3.6/lib/python3.6/site-packages/zmq/backend/cython/checkrc.pxd\u001b[0m in \u001b[0;36mzmq.backend.cython.checkrc._check_rc\u001b[0;34m()\u001b[0m\n",
      "\u001b[0;31mKeyboardInterrupt\u001b[0m: ",
      "\nDuring handling of the above exception, another exception occurred:\n",
      "\u001b[0;31mKeyboardInterrupt\u001b[0m                         Traceback (most recent call last)",
      "\u001b[0;32m<ipython-input-21-33cd61940cbb>\u001b[0m in \u001b[0;36m<module>\u001b[0;34m()\u001b[0m\n\u001b[1;32m      1\u001b[0m \u001b[0;32mwhile\u001b[0m\u001b[0;34m(\u001b[0m\u001b[0;32mTrue\u001b[0m\u001b[0;34m)\u001b[0m\u001b[0;34m:\u001b[0m\u001b[0;34m\u001b[0m\u001b[0m\n\u001b[1;32m      2\u001b[0m \u001b[0;34m\u001b[0m\u001b[0m\n\u001b[0;32m----> 3\u001b[0;31m     \u001b[0mnu_prd\u001b[0m \u001b[0;34m=\u001b[0m \u001b[0mint\u001b[0m\u001b[0;34m(\u001b[0m\u001b[0minput\u001b[0m\u001b[0;34m(\u001b[0m\u001b[0;34m\"Insira o numero de produtos\"\u001b[0m\u001b[0;34m)\u001b[0m\u001b[0;34m)\u001b[0m\u001b[0;34m\u001b[0m\u001b[0m\n\u001b[0m\u001b[1;32m      4\u001b[0m     \u001b[0mtotal\u001b[0m \u001b[0;34m=\u001b[0m\u001b[0;36m0\u001b[0m\u001b[0;34m\u001b[0m\u001b[0m\n\u001b[1;32m      5\u001b[0m     \u001b[0;32mfor\u001b[0m \u001b[0mi\u001b[0m \u001b[0;32min\u001b[0m \u001b[0mrange\u001b[0m\u001b[0;34m(\u001b[0m\u001b[0;36m1\u001b[0m\u001b[0;34m,\u001b[0m\u001b[0mnu_prd\u001b[0m\u001b[0;34m+\u001b[0m\u001b[0;36m1\u001b[0m\u001b[0;34m)\u001b[0m\u001b[0;34m:\u001b[0m\u001b[0;34m\u001b[0m\u001b[0m\n",
      "\u001b[0;32m/Library/Frameworks/Python.framework/Versions/3.6/lib/python3.6/site-packages/ipykernel/kernelbase.py\u001b[0m in \u001b[0;36mraw_input\u001b[0;34m(self, prompt)\u001b[0m\n\u001b[1;32m    702\u001b[0m             \u001b[0mself\u001b[0m\u001b[0;34m.\u001b[0m\u001b[0m_parent_ident\u001b[0m\u001b[0;34m,\u001b[0m\u001b[0;34m\u001b[0m\u001b[0m\n\u001b[1;32m    703\u001b[0m             \u001b[0mself\u001b[0m\u001b[0;34m.\u001b[0m\u001b[0m_parent_header\u001b[0m\u001b[0;34m,\u001b[0m\u001b[0;34m\u001b[0m\u001b[0m\n\u001b[0;32m--> 704\u001b[0;31m             \u001b[0mpassword\u001b[0m\u001b[0;34m=\u001b[0m\u001b[0;32mFalse\u001b[0m\u001b[0;34m,\u001b[0m\u001b[0;34m\u001b[0m\u001b[0m\n\u001b[0m\u001b[1;32m    705\u001b[0m         )\n\u001b[1;32m    706\u001b[0m \u001b[0;34m\u001b[0m\u001b[0m\n",
      "\u001b[0;32m/Library/Frameworks/Python.framework/Versions/3.6/lib/python3.6/site-packages/ipykernel/kernelbase.py\u001b[0m in \u001b[0;36m_input_request\u001b[0;34m(self, prompt, ident, parent, password)\u001b[0m\n\u001b[1;32m    732\u001b[0m             \u001b[0;32mexcept\u001b[0m \u001b[0mKeyboardInterrupt\u001b[0m\u001b[0;34m:\u001b[0m\u001b[0;34m\u001b[0m\u001b[0m\n\u001b[1;32m    733\u001b[0m                 \u001b[0;31m# re-raise KeyboardInterrupt, to truncate traceback\u001b[0m\u001b[0;34m\u001b[0m\u001b[0;34m\u001b[0m\u001b[0m\n\u001b[0;32m--> 734\u001b[0;31m                 \u001b[0;32mraise\u001b[0m \u001b[0mKeyboardInterrupt\u001b[0m\u001b[0;34m\u001b[0m\u001b[0m\n\u001b[0m\u001b[1;32m    735\u001b[0m             \u001b[0;32melse\u001b[0m\u001b[0;34m:\u001b[0m\u001b[0;34m\u001b[0m\u001b[0m\n\u001b[1;32m    736\u001b[0m                 \u001b[0;32mbreak\u001b[0m\u001b[0;34m\u001b[0m\u001b[0m\n",
      "\u001b[0;31mKeyboardInterrupt\u001b[0m: "
     ]
    }
   ],
   "source": [
    "while(True):\n",
    "\n",
    "    nu_prd = int(input(\"Insira o numero de produtos\"))\n",
    "    total =0\n",
    "    for i in range(1,nu_prd+1):\n",
    "        total +=float(input(f\"Produto {i} : R$ \"))\n",
    "    print(f\"Total: R$ {total}\")\n",
    "    dinheiro =float(input(f\"Dinherio : R$ \"))\n",
    "    troco  = dinheiro -total\n",
    "    print(f\"Troco : R$ {troco}\")"
   ]
  },
  {
   "cell_type": "markdown",
   "metadata": {},
   "source": [
    "23. Foi feita uma estatística em cinco cidades brasileiras para coletar dados sobre acidentes de trânsito. Foram obtidos os seguintes dados:\n",
    "- Código da cidade;\n",
    "- Número de veículos de passeio (em 1999);\n",
    "- Número de acidentes de trânsito com vítimas (em 1999). Deseja-se saber:\n",
    "- Qual o maior e menor índice de acidentes de transito e a que cidade pertence;\n",
    "- Qual a média de veículos nas cinco cidades juntas;\n",
    "- Qual a média de acidentes de trânsito nas cidades com menos de 2.000 veículos de passeio."
   ]
  },
  {
   "cell_type": "code",
   "execution_count": 16,
   "metadata": {},
   "outputs": [
    {
     "name": "stdout",
     "output_type": "stream",
     "text": [
      "Codigo da cidade ?sp\n",
      "Numero de veículos de passeio?\n",
      "312312\n",
      "Numero de acidentes de transito?\n",
      "312312\n",
      "Codigo da cidade ?weqe\n",
      "Numero de veículos de passeio?\n",
      "321312\n",
      "Numero de acidentes de transito?\n",
      "321312\n",
      "Codigo da cidade ?sd\n",
      "Numero de veículos de passeio?\n",
      "312312\n",
      "Numero de acidentes de transito?\n",
      "3213\n",
      "Codigo da cidade ?sdsf\n",
      "Numero de veículos de passeio?\n",
      "321312\n",
      "Numero de acidentes de transito?\n",
      "312312\n",
      "Codigo da cidade ?ga\n",
      "Numero de veículos de passeio?\n",
      "321312\n",
      "Numero de acidentes de transito?\n",
      "31231\n",
      "ciadade com maior numero de acidentes weqe  com 321312 acidentes\n",
      "ciadade com menor numero de acidentes sd  com 3213 acidentes\n",
      "media de  veiculos das 5 cidades juntas é igual a 317712.00\n",
      "media de  acidentes  de transito nas ciades com menos de 2k veiculos \n",
      " \t 0.00\n"
     ]
    }
   ],
   "source": [
    "import statistics \n",
    "cidade =[]\n",
    "maior_V=0\n",
    "maior_cid=''\n",
    "menor_V=0\n",
    "menor_cid=''\n",
    "for i in range(0,5):\n",
    "    cidade.append([0]*3)\n",
    "    cidade[i][0]= input(\"Codigo da cidade ?\")\n",
    "    cidade[i][1]=int(input(\"Numero de veículos de passeio?\\n\"))\n",
    "    cidade[i][2]=int(input(\"Numero de acidentes de transito?\\n\"))\n",
    "    if(i==0 or maior_v<cidade[i][1]):\n",
    "        maior_v =cidade[i][1]\n",
    "        maior_cid =cidade[i][0]\n",
    "    if(i==0 or menor_v>cidade[i][2]):\n",
    "        menor_v =cidade[i][2]\n",
    "        menor_cid =cidade[i][0]\n",
    "    \n",
    "media_v = statistics.mean([cidade[0][1],cidade[1][1],cidade[2][1],cidade[3][1],cidade[4][1]])\n",
    "media_aci=0\n",
    "for i in range(0,5):\n",
    "    if(cidade[i][1]<=2000):\n",
    "        media_aci += cidade[i][1]\n",
    "        \n",
    "        \n",
    "print(\"ciadade com maior numero de acidentes %s  com %d acidentes\"%(maior_cid,maior_v))\n",
    "print(\"ciadade com menor numero de acidentes %s  com %d acidentes\"%(menor_cid,menor_v))\n",
    "print(\"media de  veiculos das 5 cidades juntas é igual a %.2f\"%(media_v))\n",
    "print(\"media de  acidentes  de transito nas ciades com menos de 2k veiculos \\n \\t %.2f\"%(media_aci))\n"
   ]
  },
  {
   "cell_type": "markdown",
   "metadata": {},
   "source": [
    "24. Faça um programa que receba o valor de uma dívida e mostre uma tabela com os seguintes dados: valor da dívida, valor dos juros, quantidade de parcelas e valor da parcela.\n",
    "Os juros e a quantidade de parcelas seguem a tabela abaixo:\n",
    "Quantidade de Parcelas % de Juros sobre o valor inicial da dívida\n",
    "10 3 10 6 15 9 20 12 25\n",
    "Exemplo de saída do programa:\n",
    "Valor da Dívida Valor dos Juros Quantidade de Parcelas Valor da Parcela\n",
    "                                                                                              R$ 1.000,00 0 1 R$ 1.100,00 100 3 R$ 1.150,00 150 6\n",
    "R$ 1.000,00 R$ 366,00 R$ 191,67\n",
    "   "
   ]
  },
  {
   "cell_type": "code",
   "execution_count": 11,
   "metadata": {},
   "outputs": [
    {
     "name": "stdout",
     "output_type": "stream",
     "text": [
      "Insira o valor da divida :\n",
      "1000\n",
      "Valor da Dívida | Valor dos Juros|Quantidade de Parcelas|Valor da Parcela \n",
      "\n",
      "R$:1000.0    | R$  0    |1            |R$1000.0\n",
      "R$:1100.0    | R$  100.0    |3          |R$366.67\n",
      "R$:1150.0    | R$  150.0    |6          |R$191.67\n",
      "R$:1200.0    | R$  200.0    |9          |R$133.33\n",
      "R$:1250.0    | R$  250.0    |12          |R$104.17\n"
     ]
    }
   ],
   "source": [
    "divida =float(input(\"Insira o valor da divida :\\n\"))\n",
    "parcelas  = 1\n",
    "juros =0\n",
    "divida_parcelas =divida\n",
    "print(\"Valor da Dívida | Valor dos Juros|Quantidade de Parcelas|Valor da Parcela \\n\")\n",
    "print(f\"R$:{divida}    | R$  {juros}    |{parcelas}            |R${divida_parcelas}\")\n",
    "parcelas =3\n",
    "juros =10\n",
    "divida_juros=0\n",
    "for i in range(0,4):\n",
    "    divida_juros= (juros*divida)/100\n",
    "    divida_parcelas=(divida+divida_juros)/parcelas\n",
    "    print(f\"R$:{divida+divida_juros}    | R$  {divida_juros}    |{parcelas}          |R$%.2f\"%(divida_parcelas))\n",
    "    parcelas +=3\n",
    "    juros+=5\n",
    "\n"
   ]
  },
  {
   "cell_type": "markdown",
   "metadata": {},
   "source": [
    "25. Faça um programa que mostre os n termos da Série a seguir:\n",
    "S = 1/1 + 2/3 + 3/5 + 4/7 + 5/9 + ... + n/m.\n",
    "Imprima no final a soma da serie"
   ]
  },
  {
   "cell_type": "code",
   "execution_count": 17,
   "metadata": {},
   "outputs": [
    {
     "name": "stdout",
     "output_type": "stream",
     "text": [
      "Insira a quantidade de termos desejada: 4\n",
      "Soma da série: 2.84\n"
     ]
    }
   ],
   "source": [
    "termo = int(input('Insira a quantidade de termos desejada: '))\n",
    "\n",
    "s = float(0)\n",
    "m = 1\n",
    "for n in range(1, termo + 1):\n",
    "    s += n / m\n",
    "    m += 2\n",
    "    \n",
    "print ('Soma da série: %.2f' % s)"
   ]
  },
  {
   "cell_type": "code",
   "execution_count": null,
   "metadata": {},
   "outputs": [],
   "source": []
  },
  {
   "cell_type": "code",
   "execution_count": null,
   "metadata": {},
   "outputs": [],
   "source": []
  }
 ],
 "metadata": {
  "kernelspec": {
   "display_name": "Python 3",
   "language": "python",
   "name": "python3"
  },
  "language_info": {
   "codemirror_mode": {
    "name": "ipython",
    "version": 3
   },
   "file_extension": ".py",
   "mimetype": "text/x-python",
   "name": "python",
   "nbconvert_exporter": "python",
   "pygments_lexer": "ipython3",
   "version": "3.6.1rc1"
  }
 },
 "nbformat": 4,
 "nbformat_minor": 2
}
