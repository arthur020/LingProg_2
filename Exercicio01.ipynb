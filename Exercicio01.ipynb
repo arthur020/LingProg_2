{
 "cells": [
  {
   "cell_type": "markdown",
   "metadata": {},
   "source": [
    "# 1. Faça um Programa que peça o raio de um círculo, calcule e mostre sua área."
   ]
  },
  {
   "cell_type": "code",
   "execution_count": 1,
   "metadata": {},
   "outputs": [
    {
     "name": "stdout",
     "output_type": "stream",
     "text": [
      "Insira aqui o raio de um ciruclo2\n",
      "a area é de 12.57\n"
     ]
    }
   ],
   "source": [
    "import math\n",
    "\n",
    "raio = int(input(\"Insira aqui o raio de um ciruclo \"))\n",
    "area  = math.pi*(raio**2)\n",
    "print(\"a area é de %.2f\"%area)"
   ]
  },
  {
   "cell_type": "markdown",
   "metadata": {},
   "source": [
    "# 2. Faça um Programa que calcule a área de um quadrado, em seguida mostre o dobro desta área para o usuário."
   ]
  },
  {
   "cell_type": "code",
   "execution_count": 3,
   "metadata": {},
   "outputs": [
    {
     "name": "stdout",
     "output_type": "stream",
     "text": [
      "insira um lado do quadrado2\n",
      "o dobro da area do quadrado 16.000000\n"
     ]
    }
   ],
   "source": [
    "lado = int(input(\"insira um lado do quadrado\"))\n",
    "area = lado**2\n",
    "print(\"o dobro da area do quadrado %f\"%area**2)"
   ]
  },
  {
   "cell_type": "markdown",
   "metadata": {},
   "source": [
    "# 3. Faça um Programa que pergunte quanto você ganha por hora e o número de horas trabalhadas no mês. Calcule e mostre o total do seu salário no referido mês.\n"
   ]
  },
  {
   "cell_type": "code",
   "execution_count": 5,
   "metadata": {},
   "outputs": [
    {
     "name": "stdout",
     "output_type": "stream",
     "text": [
      "Quanto vc ganha por hora ?? \n",
      "12.5\n",
      "Quantas horas voce trabalha ?? \n",
      "120\n",
      "Voce ganha R$ 1500.00 por mes  \n"
     ]
    }
   ],
   "source": [
    "por_hora = float(input(\"Quanto vc ganha por hora ?? \\n\"))\n",
    "horas_mes = int(input(\"Quantas horas voce trabalha ?? \\n\"))\n",
    "salario = horas_mes*por_hora\n",
    "print(\"Voce ganha R$ %.2f por mes  \"% salario)\n"
   ]
  },
  {
   "cell_type": "markdown",
   "metadata": {},
   "source": [
    "# 4. Faça um Programa que peça a temperatura em graus Farenheit, transforme e mostre a temperatura em graus Celsius. C = (5 * (F-32) / 9).\n"
   ]
  },
  {
   "cell_type": "code",
   "execution_count": 6,
   "metadata": {},
   "outputs": [
    {
     "name": "stdout",
     "output_type": "stream",
     "text": [
      "Insira uma temperetura em Farenheit -40\n",
      "Temperatura em convertida de Farenheit para Celsius\n",
      "Farenheit -40.000000 \n",
      " Celsius -40.000000\n"
     ]
    }
   ],
   "source": [
    "temp_far = float(input(\"Insira uma temperetura em Farenheit \"))\n",
    "temp_cel =(5*(temp_far-32)/9)\n",
    "print(\"Temperatura em convertida de Farenheit para Celsius\")\n",
    "print(\"Farenheit %f \\n Celsius %f\"%(temp_far,temp_cel))\n"
   ]
  },
  {
   "cell_type": "markdown",
   "metadata": {},
   "source": [
    "# 5. Faça um Programa que peça a temperatura em graus Celsius, transforme e mostre em graus Farenheit."
   ]
  },
  {
   "cell_type": "code",
   "execution_count": 7,
   "metadata": {},
   "outputs": [
    {
     "name": "stdout",
     "output_type": "stream",
     "text": [
      "Insira uma temp em Celsius-40\n",
      "Temperatura convertida de Celsius para  farenheit\n",
      "-40.0\n"
     ]
    }
   ],
   "source": [
    "temp_celsius = float(input(\"Insira uma temp em Celsius\"))\n",
    "temp_f = 1.8*temp_celsius+32\n",
    "print(\"Temperatura convertida de Celsius para  farenheit\")\n",
    "print(temp_f)"
   ]
  },
  {
   "cell_type": "markdown",
   "metadata": {},
   "source": [
    "# 6. Faça um Programa que peça 2 números inteiros e um número real. Calcule e mostre:\n",
    "- o produto do dobro do primeiro com metade do segundo .\n",
    "- a soma do triplo do primeiro com o terceiro.\n",
    "- o terceiro elevado ao cubo."
   ]
  },
  {
   "cell_type": "code",
   "execution_count": 8,
   "metadata": {},
   "outputs": [
    {
     "name": "stdout",
     "output_type": "stream",
     "text": [
      "Insira  um numero inteiro1\n",
      "Insira  um numero inteiro2\n",
      "Insira  um numero real3\n",
      "3.0\n",
      "6.0\n",
      "27.0\n"
     ]
    }
   ],
   "source": [
    "primeiro  =int(input(\"Insira  um numero inteiro\"))\n",
    "segundo   =int(input(\"Insira  um numero inteiro\"))\n",
    "terceiro  =float(input(\"Insira  um numero real\"))\n",
    "\n",
    "produto = (primeiro*2)+(segundo/2)\n",
    "soma  = (primeiro*3)+terceiro\n",
    "ter_cb = terceiro**3\n",
    "\n",
    "\n",
    "print(produto)\n",
    "print(soma)\n",
    "print(ter_cb)"
   ]
  },
  {
   "cell_type": "markdown",
   "metadata": {},
   "source": [
    "# 7. João Papo-de-Pescador, homem de bem, comprou um microcomputador para controlar o rendimento diário de seu trabalho. Toda vez que ele traz um peso de peixes maior que o estabelecido pelo regulamento de pesca do estado de São Paulo (50 quilos) deve pagar uma multa de R 4,00 por quilo excedente. João precisa que você faça um programa que leia a variável peso (peso de peixes) e verifique se há  excesso. Se houver, gravar na variável excesso e na variável multa o valor da multa que João deverá pagar. Caso contrário mostrar tais variáveis com o conteúdo ZERO."
   ]
  },
  {
   "cell_type": "code",
   "execution_count": 11,
   "metadata": {},
   "outputs": [
    {
     "name": "stdout",
     "output_type": "stream",
     "text": [
      "Entre com o peso: 51\n",
      "O excesso de peso foi de  1 kg, portanto, a multa é de R$ 4\n"
     ]
    }
   ],
   "source": [
    "peso = int(input(\"Entre com o peso: \"))\n",
    "\n",
    "if (peso > 50):\n",
    "\texcesso = peso - 50\n",
    "\tmulta   = excesso * 4\n",
    "else:\n",
    "\texcesso = \"ZERO\"\n",
    "\tmulta = \"ZERO\"\n",
    "\n",
    "print('O excesso de peso foi de ',str(excesso),'kg, portanto, a multa é de R$', str(multa))"
   ]
  },
  {
   "cell_type": "markdown",
   "metadata": {},
   "source": [
    "# 8. Faça um Programa que pergunte quanto você ganha por hora e o número de horas trabalhadas no mês. Calcule e mostre o total do seu salário no referido mês, sabendo-se que são descontados 11% para o Imposto de Renda, 8% para o INSS e 5% para o sindicato, faça um programa que nos dê:\n",
    "- salário bruto.\n",
    "- quanto pagou ao INSS.\n",
    "- quanto pagou ao sindicato.\n",
    "- o salário líquido.\n",
    "- calcule os descontos e o salário líquido, conforme a tabela abaixo:\n",
    "+ Salário Bruto : R$\n",
    "- IR (11%) : R$\n",
    "- INSS (8%) : R$\n",
    "- Sindicato ( 5%) : R$ = Salário Liquido : R$\n",
    "Obs.: Salário Bruto - Descontos = Salário Líquido.\n"
   ]
  },
  {
   "cell_type": "code",
   "execution_count": 12,
   "metadata": {},
   "outputs": [
    {
     "name": "stdout",
     "output_type": "stream",
     "text": [
      "Quanto ganha por hora? 12.5\n",
      "Horas trabalhadas por mês: 120\n",
      "+ Salário Bruto : R$ 1500.00\n",
      "- IR: R$ 165.00\n",
      "- INSS: R$ 120.00\n",
      "- Sindicato: R$ 75.00\n",
      "= Salário Liquido : R$ 1140.00\n"
     ]
    }
   ],
   "source": [
    "qnt_ganha = float(input('Quanto ganha por hora? '))\n",
    "horas_trabalhadas = int(input('Horas trabalhadas por mês: '))\n",
    "\n",
    "salario_bruto = qnt_ganha * horas_trabalhadas\n",
    "ir = salario_bruto * 0.11\n",
    "inss = salario_bruto * 0.08\n",
    "sindicato = salario_bruto * 0.05\n",
    "\n",
    "print ('+ Salário Bruto : R$ %.2f' %salario_bruto)\n",
    "print ('- IR: R$ %.2f' %ir )\n",
    "print ('- INSS: R$ %.2f' %inss )\n",
    "print ('- Sindicato: R$ %.2f' %sindicato )\n",
    "print ('= Salário Liquido : R$ %.2f' %(salario_bruto - ir - inss - sindicato))"
   ]
  },
  {
   "cell_type": "markdown",
   "metadata": {},
   "source": [
    "# 9. Faça um programa que leia 2 strings e informe o conteúdo delas seguido do seu comprimento. Informe também se as duas strings possuem o mesmo comprimento e são iguais ou diferentes no conteúdo.\n",
    "Exemplo:\n",
    "String 1: Brasil Hexa 2018\n",
    "String 2: Brasil! Hexa 2018!\n",
    "Tamanho de \"Brasil Hexa 2018\": 16 caracteres Tamanho de \"Brasil! Hexa 2018!\": 18 caracteres As duas strings são de tamanhos diferentes.\n",
    "As duas strings possuem conteúdo diferente.\n"
   ]
  },
  {
   "cell_type": "code",
   "execution_count": 15,
   "metadata": {},
   "outputs": [
    {
     "name": "stdout",
     "output_type": "stream",
     "text": [
      "insira uma palavra\n",
      "1\n",
      "insira outra palavra\n",
      "1\n",
      "SÃO Iguais\n"
     ]
    }
   ],
   "source": [
    "string_1 = input(\"insira uma palavra\\n\")\n",
    "string_2 = input(\"insira outra palavra\\n\")\n",
    "if(len(string_1)==len(string_2)):\n",
    "    print(\"SÃO Iguais\")\n",
    "else:\n",
    "    print(\"NÃO sao Iguais\")\n",
    "\n",
    " \n"
   ]
  },
  {
   "cell_type": "markdown",
   "metadata": {},
   "source": [
    "# 10. Faça um programa que permita ao usuário digitar o seu nome e em seguida mostre o nome do usuário de trás para frente utilizando somente letras maiúsculas. Dica: lembre−se que ao informar o nome o usuário pode digitar letras maiúsculas ou minúsculas. Observação: não use loops."
   ]
  },
  {
   "cell_type": "code",
   "execution_count": 26,
   "metadata": {},
   "outputs": [
    {
     "name": "stdout",
     "output_type": "stream",
     "text": [
      "Seu nomeian\n",
      "NAI\n"
     ]
    }
   ],
   "source": [
    "print(''.join(list(input(\"Seu nome\\n\").upper())[::-1]))"
   ]
  },
  {
   "cell_type": "markdown",
   "metadata": {},
   "source": [
    "# 11. Faça um programa que solicite a data de nascimento (dd/mm/aaaa) do usuário e imprima a data com o nome do mês por extenso.Data de Nascimento: 29/10/1973\n",
    "                  Você nasceu em 29 de Outubro de 1973. Obs.: Não use desvio condicional nem loops."
   ]
  },
  {
   "cell_type": "code",
   "execution_count": 27,
   "metadata": {},
   "outputs": [
    {
     "name": "stdout",
     "output_type": "stream",
     "text": [
      "informe a data (dd/mm/aaaa): 30/01/1999\n",
      "30 de janeiro de 1999\n"
     ]
    }
   ],
   "source": [
    "meses = [\"janeiro\",\n",
    "         \"fevereiro\",\n",
    "         \"março\",\n",
    "         \"abril\",\n",
    "         \"maio\",\n",
    "         \"junho\",\n",
    "         \"julho\",\n",
    "         \"agosto\",\n",
    "         \"setembro\",\n",
    "         \"outubro\",\n",
    "         \"novembro\",\n",
    "         \"dezembro\"]\n",
    "\n",
    "data = input(\"informe a data (dd/mm/aaaa): \")\n",
    "\n",
    "\n",
    "print (data.split(\"/\")[0],\n",
    "       \"de\",\n",
    "       meses[(int(data.split(\"/\")[1])-1)],\n",
    "       \"de\",\n",
    "       data.split(\"/\")[2])\n",
    "\n",
    "\n"
   ]
  },
  {
   "cell_type": "markdown",
   "metadata": {},
   "source": [
    "# 12. Leet é uma forma de se escrever o alfabeto latino usando outros símbolos em lugar das letras, como números por exemplo. A própria palavra leet admite muitas variações, como l33t ou 1337. O uso do leet reflete uma subcultura relacionada ao mundo dos jogos de computador e internet, sendo muito usada para confundir os iniciantes e afirmar-se como parte de um grupo. Pesquise sobre as principais formas de traduzir as letras. Depois, faça um programa que peça uma texto e transforme-o para a grafia leet speak.\n",
    "Desafio: não use loops nem desvios condicionais."
   ]
  },
  {
   "cell_type": "code",
   "execution_count": 30,
   "metadata": {},
   "outputs": [
    {
     "name": "stdout",
     "output_type": "stream",
     "text": [
      "Insira algo \n",
      "ian Gabriel\n",
      "i4n G4bri31\n"
     ]
    }
   ],
   "source": [
    "def leet(text):\n",
    "    getchar = lambda c: chars[c] if c in chars else c\n",
    "    chars = {\"a\":\"4\",\"e\":\"3\",\"l\":\"1\",\"o\":\"0\",\"s\":\"5\"}\n",
    "    return ''.join(getchar(c) for c in text)\n",
    "print(leet(input(\"Insira algo \\n\")))"
   ]
  }
 ],
 "metadata": {
  "kernelspec": {
   "display_name": "Python 3",
   "language": "python",
   "name": "python3"
  },
  "language_info": {
   "codemirror_mode": {
    "name": "ipython",
    "version": 3
   },
   "file_extension": ".py",
   "mimetype": "text/x-python",
   "name": "python",
   "nbconvert_exporter": "python",
   "pygments_lexer": "ipython3",
   "version": "3.6.1rc1"
  }
 },
 "nbformat": 4,
 "nbformat_minor": 2
}
